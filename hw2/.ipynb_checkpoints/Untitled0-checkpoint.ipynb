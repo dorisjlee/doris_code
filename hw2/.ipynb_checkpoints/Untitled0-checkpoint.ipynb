{
 "metadata": {
  "name": "",
  "signature": "sha256:8bda27a2d9e84f9986db9ae19d0108efa81c97be41b3072aa9258b59dde3d2fb"
 },
 "nbformat": 3,
 "nbformat_minor": 0,
 "worksheets": [
  {
   "cells": [
    {
     "cell_type": "markdown",
     "metadata": {},
     "source": [
      "N=100\n",
      "          71\n",
      "          29\n",
      "   2.840000    \n",
      "\n",
      "Press ENTER or type command to continue\n",
      "N=1000\n",
      "         770\n",
      "         230\n",
      "   3.080000    \n",
      "\n",
      "Press ENTER or type command to continue\n",
      "dorislee@edison10:~/doris_code/hw2> vim MCintegration.f90 \n",
      "dorislee@edison10:~/doris_code/hw2> ftn -o pi MCintegration.f90 \n",
      "dorislee@edison10:~/doris_code/hw2> ./pi\n",
      "N = 10000\n",
      "        7844\n",
      "        2156\n",
      "   3.137600    \n",
      "\n",
      "\n",
      "      785442\n",
      "      214558\n",
      "   3.141768    \n",
      "\n",
      "Press ENTER or type command to continue\n",
      "     7851863\n",
      "     2148137\n",
      "   3.140745 \n",
      "        \n",
      "    78542475\n",
      "    21457525\n",
      "   3.141699    \n",
      "    "
     ]
    },
    {
     "cell_type": "code",
     "collapsed": false,
     "input": [
      "Program crasheds if N> 100000000"
     ],
     "language": "python",
     "metadata": {},
     "outputs": []
    }
   ],
   "metadata": {}
  }
 ]
}